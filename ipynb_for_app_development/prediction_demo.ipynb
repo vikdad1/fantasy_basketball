{
 "cells": [
  {
   "cell_type": "code",
   "execution_count": 18,
   "metadata": {
    "collapsed": true
   },
   "outputs": [],
   "source": [
    "import os\n",
    "import pickle\n",
    "import pandas as pd\n",
    "from sklearn.linear_model import LinearRegression\n",
    "\n",
    "path = os.getcwd() #get working directory\n",
    "model = pickle.load(open(path+'/app/models/top_5_players.sav', 'rb'))\n",
    "player_data = pd.read_csv(path+'/app/data/player_data_single_record.csv')\n",
    "season_average_data = pd.read_csv(path+'/app/data/season_average_data.csv', index_col=0)"
   ]
  },
  {
   "cell_type": "code",
   "execution_count": 30,
   "metadata": {
    "collapsed": true
   },
   "outputs": [],
   "source": [
    "def aggregatePlayerStats(data, player_list):\n",
    "\n",
    "    team_data = data[data['player'].isin(player_list)] #subset data in the player list\n",
    "    sum_data = team_data[['fga', '3pa', '2pa', 'fta',\n",
    "                       'orb', 'drb', 'trb', 'ast', 'stl', 'blk', 'tov', 'pf', 'pts']].sum()\n",
    "    avg_data = team_data[['2p%', '3p%', 'fg%', 'ft%', 'efg%', 'age', 'per', '3par',\n",
    "                         'ftr', 'orb%', 'drb%', 'trb%', 'ast%', 'stl%', 'blk%', 'tov%',\n",
    "                         'usg%', 'ows', 'dws', 'ws', 'ws/48', 'obpm', 'dbpm', 'bpm', 'vorp']].mean()\n",
    "    final = pd.DataFrame(pd.concat([sum_data, avg_data], axis=0)).transpose()\n",
    "    return final"
   ]
  },
  {
   "cell_type": "code",
   "execution_count": 37,
   "metadata": {
    "collapsed": true
   },
   "outputs": [],
   "source": [
    "def predictWinPercentage(player_data, season_average_data, player_list, season):\n",
    "    \n",
    "    season_data = player_data[player_data['season']==season]\n",
    "    season_average = season_average_data[season_average_data['season']==season]\n",
    "    team_stats = aggregatePlayerStats(season_data, player_list)\n",
    "    team_stats = team_stats - season_average.loc['mean'].drop('season', axis=0) #reflects model type\n",
    " \n",
    "    winning_percentage = float(model.predict(team_stats)) *100\n",
    "    winning_percentage = round(winning_percentage, 1)\n",
    "    final = 'Predicted win percentage: ' + str(winning_percentage) + '%'\n",
    "    return final"
   ]
  },
  {
   "cell_type": "code",
   "execution_count": 38,
   "metadata": {},
   "outputs": [
    {
     "name": "stdout",
     "output_type": "stream",
     "text": [
      "2p%      -0.007139\n",
      "2pa      -9.821429\n",
      "3p%       0.002259\n",
      "3pa      -1.267857\n",
      "3par      0.012537\n",
      "age      -2.907407\n",
      "ast      -1.471429\n",
      "ast%     13.236111\n",
      "blk      -1.821429\n",
      "blk%     -0.876852\n",
      "bpm       4.469444\n",
      "dbpm     -0.071296\n",
      "drb      -7.728571\n",
      "drb%     -0.599074\n",
      "dws       1.198148\n",
      "efg%     -0.022833\n",
      "fg%      -0.019769\n",
      "fga     -11.207143\n",
      "ft%       0.082898\n",
      "fta      -1.878571\n",
      "ftr       0.075648\n",
      "obpm      4.542593\n",
      "orb      -3.550000\n",
      "orb%     -2.133333\n",
      "ows       5.241667\n",
      "per       7.562963\n",
      "pf       -4.485714\n",
      "pts     -12.396429\n",
      "stl      -0.135714\n",
      "stl%      1.290741\n",
      "tov      -2.889286\n",
      "tov%     -1.391667\n",
      "trb     -11.257143\n",
      "trb%     -1.482407\n",
      "usg%      7.862037\n",
      "vorp      3.829630\n",
      "ws        6.436111\n",
      "ws/48     0.078130\n",
      "Name: 0, dtype: float64\n"
     ]
    },
    {
     "data": {
      "text/plain": [
       "'Predicted win percentage: 66.4%'"
      ]
     },
     "execution_count": 38,
     "metadata": {},
     "output_type": "execute_result"
    }
   ],
   "source": [
    "player_list = ['Kobe Bryant','Yao Ming','Dwayne Wade','Lebron James','Chris Paul']\n",
    "predictWinPercentage(player_data, season_average_data, player_list, 2005)"
   ]
  },
  {
   "cell_type": "code",
   "execution_count": null,
   "metadata": {
    "collapsed": true
   },
   "outputs": [],
   "source": []
  }
 ],
 "metadata": {
  "kernelspec": {
   "display_name": "Python 3",
   "language": "python",
   "name": "python3"
  },
  "language_info": {
   "codemirror_mode": {
    "name": "ipython",
    "version": 3
   },
   "file_extension": ".py",
   "mimetype": "text/x-python",
   "name": "python",
   "nbconvert_exporter": "python",
   "pygments_lexer": "ipython3",
   "version": "3.6.1"
  }
 },
 "nbformat": 4,
 "nbformat_minor": 2
}
